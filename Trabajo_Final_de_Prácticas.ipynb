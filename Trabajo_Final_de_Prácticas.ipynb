{
  "nbformat": 4,
  "nbformat_minor": 0,
  "metadata": {
    "colab": {
      "name": "Trabajo Final de Prácticas ",
      "provenance": [],
      "collapsed_sections": [],
      "authorship_tag": "ABX9TyPFGnOfgRiiPJ4Ifk2rM2HG",
      "include_colab_link": true
    },
    "kernelspec": {
      "name": "python3",
      "display_name": "Python 3"
    },
    "language_info": {
      "name": "python"
    }
  },
  "cells": [
    {
      "cell_type": "markdown",
      "metadata": {
        "id": "view-in-github",
        "colab_type": "text"
      },
      "source": [
        "<a href=\"https://colab.research.google.com/github/Ignacio-Otalora/TP-FINAL-PR-CTICAS-PROFESIONALIZANTES-/blob/main/Trabajo_Final_de_Pr%C3%A1cticas.ipynb\" target=\"_parent\"><img src=\"https://colab.research.google.com/assets/colab-badge.svg\" alt=\"Open In Colab\"/></a>"
      ]
    },
    {
      "cell_type": "code",
      "metadata": {
        "colab": {
          "base_uri": "https://localhost:8080/"
        },
        "id": "FtJmd4Py8_ah",
        "outputId": "7541ce9e-2d84-456c-97bb-cbbaa9afaa79"
      },
      "source": [
        "print(\"DAMOS LA BIENVENIDA AL PROGRAMA...\")\n",
        "persona ={\"apellido\":\"\",\"nombre\": \"\",\"edad\" :0,\"altura\":0 , \"peso\" :0, \"telefono\" :\"\",\"direccion\" :\"\" }\n",
        "for campo in persona:\n",
        "    persona [campo]  = input(f\"ingrese su {campo}:\")\n",
        "imc= round(float(persona[\"peso\"])/(float(persona[\"altura\"])**2),2)\n",
        "persona[\"IMC\"]= imc\n",
        "\n",
        "if imc >= 0 and imc <= 18.7 :\n",
        "        print (\"Definimos bajo peso\")\n",
        "elif imc >= 18.7 and imc <= 24.7 :\n",
        "        print (\"Definimos peso normal\")\n",
        "elif imc >= 24.8 and imc <= 29.8:\n",
        "        print (\"Definimos sobre peso\")\n",
        "elif imc >= 29.9 and imc <= 34.6 :\n",
        "        print (\"Definimos obesidad tipo I\")\n",
        "elif imc >= 34.7 and imc <= 39.8:\n",
        "        print (\"Definimos obesidad tipo II\")\n",
        "elif imc >= 39.9:\n",
        "        print (\"Definimos obesidad tipo III\")\n",
        "    \n",
        "#cat_imc(imc)    \n",
        "print(persona)"
      ],
      "execution_count": null,
      "outputs": [
        {
          "output_type": "stream",
          "name": "stdout",
          "text": [
            "DAMOS LA BIENVENIDA AL PROGRAMA...\n"
          ]
        }
      ]
    },
    {
      "cell_type": "code",
      "metadata": {
        "colab": {
          "base_uri": "https://localhost:8080/",
          "height": 392
        },
        "id": "zrJhKqVdTQBB",
        "outputId": "eaa52a47-fe0f-4efe-a472-7ce7ea4b5413"
      },
      "source": [
        "\n",
        "print(\"DAMOS LA BIENVENIDA AL PROGRAMA...\")\n",
        "\n",
        "#Importamos las librerias\n",
        "import RPI.GPIO as io\n",
        "import time   \n",
        "               \n",
        "#Enlazamos el boton (button) al GPIO 10\n",
        "button = 10               \n",
        "\n",
        "#Enlazamos los Leds (A, B, C, D) al gpio (5, 7, 11, 13)\n",
        "ledA = 5                    \n",
        "ledB = 7                    \n",
        "ledC = 11                    \n",
        "ledD = 13                    \n",
        "\n",
        "\n",
        "#Definimos\n",
        "io.setmode(io.BCM)\n",
        "\n",
        "#Evitamos señales de advertencias\n",
        "io.setwarnings(False)        \n",
        "\n",
        "#Defino los pines como salidas\n",
        "io.setup(ledA,io.OUT)       \n",
        "io.setup(ledB,io.OUT)        \n",
        "io.setup(ledC,io.OUT)        \n",
        "io.setup(ledD,io.OUT)        \n",
        "\n",
        "#El button definido como entrada\n",
        "io.setup(button,io.IN)     \n",
        "\n",
        "\n",
        "\n",
        "while io.input(button):\n",
        "\n",
        "#0000\n",
        "    io.output(ledA,0)        \n",
        "    io.output(ledB,0) \n",
        "    io.output(ledC,0)\n",
        "    io.output(ledD,0)    \n",
        "    time.sleep(1)          \n",
        "\n",
        "#0001\n",
        "    io.output(ledA,0)        \n",
        "    io.output(ledB,0) \n",
        "    io.output(ledC,0)\n",
        "    io.output(ledD,1)    \n",
        "    time.sleep(1)   \n",
        "\n",
        "#0010\n",
        "    io.output(ledA,0)        \n",
        "    io.output(ledB,0) \n",
        "    io.output(ledC,1)\n",
        "    io.output(ledD,0)    \n",
        "    time.sleep(1)   \n",
        "\n",
        "#0011\n",
        "    io.output(led1,0)        \n",
        "    io.output(led2,0) \n",
        "    io.output(led3,1)\n",
        "    io.output(led4,1)    \n",
        "    time.sleep(1)   \n",
        "\n",
        "\n",
        "#0100\n",
        "    io.output(ledA,0)        \n",
        "    io.output(ledB,1) \n",
        "    io.output(ledC,0)\n",
        "    io.output(ledD,0)    \n",
        "    time.sleep(1)   \n",
        "\n",
        "\n",
        "#0101\n",
        "    io.output(ledA,0)        \n",
        "    io.output(ledB,1) \n",
        "    io.output(ledC,0)\n",
        "    io.output(ledD,1)    \n",
        "    time.sleep(1)   \n",
        "\n",
        "\n",
        "#0110\n",
        "    io.output(ledA,0)        \n",
        "    io.output(ledB,1) \n",
        "    io.output(ledC,1)\n",
        "    io.output(ledD,0)    \n",
        "    time.sleep(1)   \n",
        "\n",
        "\n",
        "#0111\n",
        "    io.output(ledA,0)        \n",
        "    io.output(ledB,1) \n",
        "    io.output(ledC,1)\n",
        "    io.output(ledD,1)    \n",
        "    time.sleep(1)   \n",
        "\n",
        "\n",
        "#1000\n",
        "    io.output(ledA,1)        \n",
        "    io.output(ledB,0) \n",
        "    io.output(ledC,0)\n",
        "    io.output(ledD,0)    \n",
        "    time.sleep(1)   \n",
        "\n",
        "\n",
        "#1001\n",
        "    io.output(ledA,1)        \n",
        "    io.output(ledB,0) \n",
        "    io.output(ledC,0)\n",
        "    io.output(ledD,1)    \n",
        "    time.sleep(1)"
      ],
      "execution_count": 2,
      "outputs": [
        {
          "output_type": "stream",
          "name": "stdout",
          "text": [
            "DAMOS LA BIENVENIDA AL PROGRAMA...\n"
          ]
        },
        {
          "output_type": "error",
          "ename": "ModuleNotFoundError",
          "evalue": "ignored",
          "traceback": [
            "\u001b[0;31m---------------------------------------------------------------------------\u001b[0m",
            "\u001b[0;31mModuleNotFoundError\u001b[0m                       Traceback (most recent call last)",
            "\u001b[0;32m<ipython-input-2-268acb583795>\u001b[0m in \u001b[0;36m<module>\u001b[0;34m()\u001b[0m\n\u001b[1;32m      3\u001b[0m \u001b[0;34m\u001b[0m\u001b[0m\n\u001b[1;32m      4\u001b[0m \u001b[0;31m#Importamos las librerias\u001b[0m\u001b[0;34m\u001b[0m\u001b[0;34m\u001b[0m\u001b[0;34m\u001b[0m\u001b[0m\n\u001b[0;32m----> 5\u001b[0;31m \u001b[0;32mimport\u001b[0m \u001b[0mRPI\u001b[0m\u001b[0;34m.\u001b[0m\u001b[0mGPIO\u001b[0m \u001b[0;32mas\u001b[0m \u001b[0mio\u001b[0m\u001b[0;34m\u001b[0m\u001b[0;34m\u001b[0m\u001b[0m\n\u001b[0m\u001b[1;32m      6\u001b[0m \u001b[0;32mimport\u001b[0m \u001b[0mtime\u001b[0m\u001b[0;34m\u001b[0m\u001b[0;34m\u001b[0m\u001b[0m\n\u001b[1;32m      7\u001b[0m \u001b[0;34m\u001b[0m\u001b[0m\n",
            "\u001b[0;31mModuleNotFoundError\u001b[0m: No module named 'RPI'",
            "",
            "\u001b[0;31m---------------------------------------------------------------------------\u001b[0;32m\nNOTE: If your import is failing due to a missing package, you can\nmanually install dependencies using either !pip or !apt.\n\nTo view examples of installing some common dependencies, click the\n\"Open Examples\" button below.\n\u001b[0;31m---------------------------------------------------------------------------\u001b[0m\n"
          ],
          "errorDetails": {
            "actions": [
              {
                "action": "open_url",
                "actionText": "Open Examples",
                "url": "/notebooks/snippets/importing_libraries.ipynb"
              }
            ]
          }
        }
      ]
    }
  ]
}