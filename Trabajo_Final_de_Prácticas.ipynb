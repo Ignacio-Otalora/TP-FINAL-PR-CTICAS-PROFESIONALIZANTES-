{
  "nbformat": 4,
  "nbformat_minor": 0,
  "metadata": {
    "colab": {
      "name": "Trabajo Final de Prácticas ",
      "provenance": [],
      "collapsed_sections": [],
      "authorship_tag": "ABX9TyMUSbiVGyNmti9cjFFdTKhx",
      "include_colab_link": true
    },
    "kernelspec": {
      "name": "python3",
      "display_name": "Python 3"
    },
    "language_info": {
      "name": "python"
    }
  },
  "cells": [
    {
      "cell_type": "markdown",
      "metadata": {
        "id": "view-in-github",
        "colab_type": "text"
      },
      "source": [
        "<a href=\"https://colab.research.google.com/github/Ignacio-Otalora/TP-FINAL-PR-CTICAS-PROFESIONALIZANTES-/blob/main/Trabajo_Final_de_Pr%C3%A1cticas.ipynb\" target=\"_parent\"><img src=\"https://colab.research.google.com/assets/colab-badge.svg\" alt=\"Open In Colab\"/></a>"
      ]
    },
    {
      "cell_type": "code",
      "metadata": {
        "id": "FtJmd4Py8_ah"
      },
      "source": [
        "print(\"DAMOS LA BIENVENIDA AL PROGRAMA...\")\n",
        "persona ={\"apellido\":\"\",\"nombre\": \"\",\"edad\" :0,\"altura\":0 , \"peso\" :0, \"telefono\" :\"\",\"direccion\" :\"\" }\n",
        "for campo in persona:\n",
        "    persona [campo]  = input(f\"ingrese su {campo}:\")\n",
        "imc= round(float(persona[\"peso\"])/(float(persona[\"altura\"])**2),2)\n",
        "persona[\"IMC\"]= imc\n",
        "\n",
        "if imc >= 0 and imc <= 18.7 :\n",
        "        print (\"Definimos bajo peso\")\n",
        "elif imc >= 18.7 and imc <= 24.7 :\n",
        "        print (\"Definimos peso normal\")\n",
        "elif imc >= 24.8 and imc <= 29.8:\n",
        "        print (\"Definimos sobre peso\")\n",
        "elif imc >= 29.9 and imc <= 34.6 :\n",
        "        print (\"Definimos obesidad tipo I\")\n",
        "elif imc >= 34.7 and imc <= 39.8:\n",
        "        print (\"Definimos obesidad tipo II\")\n",
        "elif imc >= 39.9:\n",
        "        print (\"Definimos obesidad tipo III\")\n",
        "    \n",
        "#cat_imc(imc)    \n",
        "print(persona)"
      ],
      "execution_count": null,
      "outputs": []
    }
  ]
}